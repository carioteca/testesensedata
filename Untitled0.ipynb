{
  "nbformat": 4,
  "nbformat_minor": 0,
  "metadata": {
    "colab": {
      "provenance": [],
      "include_colab_link": true
    },
    "kernelspec": {
      "name": "python3",
      "display_name": "Python 3"
    },
    "language_info": {
      "name": "python"
    }
  },
  "cells": [
    {
      "cell_type": "markdown",
      "metadata": {
        "id": "view-in-github",
        "colab_type": "text"
      },
      "source": [
        "<a href=\"https://colab.research.google.com/github/carioteca/testesensedata/blob/main/Untitled0.ipynb\" target=\"_parent\"><img src=\"https://colab.research.google.com/assets/colab-badge.svg\" alt=\"Open In Colab\"/></a>"
      ]
    },
    {
      "cell_type": "code",
      "execution_count": 2,
      "metadata": {
        "colab": {
          "base_uri": "https://localhost:8080/"
        },
        "id": "QTJmAF0Ndiq-",
        "outputId": "bf946d6a-d836-41da-e48e-5c0c054ee807"
      },
      "outputs": [
        {
          "output_type": "stream",
          "name": "stdout",
          "text": [
            "O número maior impar é 27\n"
          ]
        }
      ],
      "source": [
        "lista = [1,5,7,4,2,8,27]\n",
        "size = len(lista)\n",
        "impares = [lista[i] for i in range(0, size) if lista[i]%2!=0]\n",
        "impares.sort(reverse=True)\n",
        "print(\"O número maior impar é \"+str(impares[0]))"
      ]
    },
    {
      "cell_type": "code",
      "source": [
        "import re\n",
        "frase = \"O biquini é de bolinhas\"\n",
        "frase_invertida = re.split(\"/s\", frase)\n",
        "for palavras in frase_invertida:\n",
        "    print(palavras, end = \" \")\n",
        "\n"
      ],
      "metadata": {
        "colab": {
          "base_uri": "https://localhost:8080/"
        },
        "id": "Bg5BVRNIeYdt",
        "outputId": "8782ab5e-ee7a-43f6-d692-84118c70cef9"
      },
      "execution_count": 1,
      "outputs": [
        {
          "output_type": "stream",
          "name": "stdout",
          "text": [
            "O biquini é de bolinhas "
          ]
        }
      ]
    },
    {
      "cell_type": "markdown",
      "source": [],
      "metadata": {
        "id": "-XKnPUbFgCH3"
      }
    },
    {
      "cell_type": "code",
      "source": [
        "a = [1,4,-4,-3,-2, 1, 3]\n",
        "\n",
        "current_som = 0\n",
        "max_so_far = 0\n",
        "\n",
        "st = 0\n",
        "poi = 0\n",
        "en = 0\n",
        "\n",
        "size = len(a)\n",
        "for i in range(0, size):\n",
        "     current_som = current_som + a[i]\n",
        "     if current_som < max_so_far:\n",
        "       st = poi\n",
        "       en = i\n",
        "       max_so_far = current_som\n",
        "     if current_som < 0:\n",
        "        current_som = 0\n",
        "        poi =  i + 1\n",
        "\n",
        "print(\"O valor máximo da soma é \"+ str(max_so_far))"
      ],
      "metadata": {
        "colab": {
          "base_uri": "https://localhost:8080/"
        },
        "id": "y9Ub95lKgDW-",
        "outputId": "e98591c5-254b-48e4-efb6-cd56c6c714b7"
      },
      "execution_count": 4,
      "outputs": [
        {
          "output_type": "stream",
          "name": "stdout",
          "text": [
            "O valor máximo da soma é -2\n"
          ]
        }
      ]
    }
  ]
}