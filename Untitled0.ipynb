{
  "nbformat": 4,
  "nbformat_minor": 0,
  "metadata": {
    "colab": {
      "provenance": [],
      "authorship_tag": "ABX9TyPWYQkc9Awrwvm3B0EEW3Uy",
      "include_colab_link": true
    },
    "kernelspec": {
      "name": "python3",
      "display_name": "Python 3"
    },
    "language_info": {
      "name": "python"
    }
  },
  "cells": [
    {
      "cell_type": "markdown",
      "metadata": {
        "id": "view-in-github",
        "colab_type": "text"
      },
      "source": [
        "<a href=\"https://colab.research.google.com/github/carioteca/testesensedata/blob/main/Untitled0.ipynb\" target=\"_parent\"><img src=\"https://colab.research.google.com/assets/colab-badge.svg\" alt=\"Open In Colab\"/></a>"
      ]
    },
    {
      "cell_type": "code",
      "execution_count": null,
      "metadata": {
        "colab": {
          "base_uri": "https://localhost:8080/"
        },
        "id": "QTJmAF0Ndiq-",
        "outputId": "e78b24db-c82b-4472-b395-ab051ecf737c"
      },
      "outputs": [
        {
          "output_type": "stream",
          "name": "stdout",
          "text": [
            "O número maior impar é 27\n"
          ]
        }
      ],
      "source": [
        "lista = [1,5,7,4,2,8,27]\n",
        "size = len(lista)\n",
        "impares = [lista[i] for i in range(0, size) if lista[i]%2!=0]\n",
        "impares.sort(reverse=True)\n",
        "print(\"O número maior impar é \"+str(impares[0]))"
      ]
    },
    {
      "cell_type": "code",
      "source": [
        "import re\n",
        "frase = \"O biquini é de bolinhas\"\n",
        "frase_invertida = re.split(\"/s\", frase)\n",
        "for palavras in frase_invertida:\n",
        "    print(palavras, end = \" \")\n",
        "\n"
      ],
      "metadata": {
        "colab": {
          "base_uri": "https://localhost:8080/"
        },
        "id": "Bg5BVRNIeYdt",
        "outputId": "2469ce55-d005-4742-a9ad-ebbc56686f95"
      },
      "execution_count": null,
      "outputs": [
        {
          "output_type": "stream",
          "name": "stdout",
          "text": [
            "O biquini é de bolinhas "
          ]
        }
      ]
    },
    {
      "cell_type": "markdown",
      "source": [],
      "metadata": {
        "id": "-XKnPUbFgCH3"
      }
    },
    {
      "cell_type": "code",
      "source": [
        "a = [1,4,-4,-3,-2, 1, 3]\n",
        "\n",
        "current_som = 0\n",
        "max_so_far = 0\n",
        "\n",
        "st = 0\n",
        "poi = 0\n",
        "en = 0\n",
        "\n",
        "size = len(a)\n",
        "for i in range(0, size):\n",
        "     current_som = current_som + a[i]\n",
        "     if current_som < max_so_far:\n",
        "       st = poi\n",
        "       en = i\n",
        "       max_so_far = current_som\n",
        "     if current_som < 0:\n",
        "        current_som = 0\n",
        "        poi =  i + 1\n",
        "\n",
        "print(\"O valor máximo da soma é \"+ max_so_far)"
      ],
      "metadata": {
        "colab": {
          "base_uri": "https://localhost:8080/",
          "height": 200
        },
        "id": "y9Ub95lKgDW-",
        "outputId": "fb9bbb02-0f37-419e-a72e-3fc08d2d235c"
      },
      "execution_count": null,
      "outputs": [
        {
          "output_type": "error",
          "ename": "TypeError",
          "evalue": "ignored",
          "traceback": [
            "\u001b[0;31m---------------------------------------------------------------------------\u001b[0m",
            "\u001b[0;31mTypeError\u001b[0m                                 Traceback (most recent call last)",
            "\u001b[0;32m<ipython-input-4-365e26fc5778>\u001b[0m in \u001b[0;36m<module>\u001b[0;34m()\u001b[0m\n\u001b[1;32m     19\u001b[0m         \u001b[0mpoi\u001b[0m \u001b[0;34m=\u001b[0m  \u001b[0mi\u001b[0m \u001b[0;34m+\u001b[0m \u001b[0;36m1\u001b[0m\u001b[0;34m\u001b[0m\u001b[0;34m\u001b[0m\u001b[0m\n\u001b[1;32m     20\u001b[0m \u001b[0;34m\u001b[0m\u001b[0m\n\u001b[0;32m---> 21\u001b[0;31m \u001b[0mprint\u001b[0m\u001b[0;34m(\u001b[0m\u001b[0;34m\"O valor máximo da soma é \"\u001b[0m\u001b[0;34m+\u001b[0m \u001b[0mmax_so_far\u001b[0m\u001b[0;34m)\u001b[0m\u001b[0;34m\u001b[0m\u001b[0;34m\u001b[0m\u001b[0m\n\u001b[0m",
            "\u001b[0;31mTypeError\u001b[0m: can only concatenate str (not \"int\") to str"
          ]
        }
      ]
    }
  ]
}